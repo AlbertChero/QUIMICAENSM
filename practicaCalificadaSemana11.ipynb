{
  "nbformat": 4,
  "nbformat_minor": 0,
  "metadata": {
    "colab": {
      "provenance": [],
      "authorship_tag": "ABX9TyNocRYOZGIKJlsixZBzu6sO",
      "include_colab_link": true
    },
    "kernelspec": {
      "name": "python3",
      "display_name": "Python 3"
    },
    "language_info": {
      "name": "python"
    }
  },
  "cells": [
    {
      "cell_type": "markdown",
      "metadata": {
        "id": "view-in-github",
        "colab_type": "text"
      },
      "source": [
        "<a href=\"https://colab.research.google.com/github/AlbertChero/QUIMICAENSM/blob/main/practicaCalificadaSemana11.ipynb\" target=\"_parent\"><img src=\"https://colab.research.google.com/assets/colab-badge.svg\" alt=\"Open In Colab\"/></a>"
      ]
    },
    {
      "cell_type": "markdown",
      "source": [
        "**Fuerzas intermoleculares**"
      ],
      "metadata": {
        "id": "ePMvPHRrdBy8"
      }
    },
    {
      "cell_type": "markdown",
      "source": [
        "11.1. Proponga un ejemplo para cada tipo de fuerza intermolecular:"
      ],
      "metadata": {
        "id": "bv2lzue5bHn2"
      }
    },
    {
      "cell_type": "markdown",
      "source": [
        "Fuerzas dipolo-dipolo: Molécula de cloruro de hidrógeno (HCl), con atracción entre el átomo de hidrógeno parcialmente positivo y el átomo de cloro parcialmente negativo.\n",
        "\n",
        "Fuerzas dipolo-dipolo inducido: Molécula de dióxido de carbono (CO2), con dipolos temporales debido a la asimetría en la distribución de electrones.\n",
        "\n",
        "Ion-dipolo: Disolución de cloruro de sodio (NaCl) en agua, donde los iones Na+ y Cl- interactúan con las moléculas de agua dipolares.\n",
        "\n",
        "Fuerzas de dispersión: Gas noble helio (He), con fuerzas de dispersión debidas a dipolos temporales en la distribución electrónica de las moléculas de helio.\n"
      ],
      "metadata": {
        "id": "7vxcembYrDwi"
      }
    },
    {
      "cell_type": "markdown",
      "source": [
        "11.2. Explique el termino polarizabilidad, ¿Qué clase de moléculas tienden a ser muy polarizables?¿Que relación existe entre la polarizabilidad y las fuerzas intermoleculares?"
      ],
      "metadata": {
        "id": "NtUr4tjyssnn"
      }
    },
    {
      "cell_type": "markdown",
      "source": [
        "La polarizabilidad es la capacidad de una molécula para deformar su nube electrónica en respuesta a un campo eléctrico externo. Las moléculas grandes con muchos electrones, especialmente en orbitales externos, tienden a ser altamente polarizables. La polarizabilidad está relacionada con las fuerzas intermoleculares, ya que las moléculas altamente polarizables experimentan fuerzas de dispersión más fuertes debido a la formación de dipolos temporales intensos."
      ],
      "metadata": {
        "id": "unrcqzhEs0HH"
      }
    },
    {
      "cell_type": "markdown",
      "source": [
        "11.3. Explique la diferencia entre un momento dipolar temporal y un momento dipolar permanente."
      ],
      "metadata": {
        "id": "ioMPbLEfrHfB"
      }
    },
    {
      "cell_type": "markdown",
      "source": [
        "Un momento dipolar permanente se refiere a una diferencia de carga constante en una molécula debido a la asimetría en la distribución electrónica, mientras que un momento dipolar temporal es la formación momentánea de un dipolo en una molécula no polar debido a fluctuaciones en la distribución electrónica, dando lugar a fuerzas intermoleculares temporales."
      ],
      "metadata": {
        "id": "hTH35c9ZsqdH"
      }
    },
    {
      "cell_type": "markdown",
      "source": [
        "11.4. Mencione alguna evidencia de que todos los átomos y moléculas ejercen entre sí fuerzas de atracción."
      ],
      "metadata": {
        "id": "Q4iAQvd2tWom"
      }
    },
    {
      "cell_type": "markdown",
      "source": [
        "Una evidencia de que todos los átomos y moléculas ejercen fuerzas de atracción entre sí es la observación de la tensión superficial en los líquidos. La tensión superficial es la resistencia que experimenta la superficie de un líquido cuando se intenta estirar o romper debido a las fuerzas de atracción entre las moléculas en la superficie del líquido. Este fenómeno demuestra que las moléculas en la superficie del líquido están siendo atraídas hacia el interior del líquido, lo que indica la existencia de fuerzas de atracción intermoleculares en todas las sustancias líquidas."
      ],
      "metadata": {
        "id": "kFaMbtNAtEY2"
      }
    },
    {
      "cell_type": "markdown",
      "source": [
        "11.5. ¿Qué propiedades físicas se deberían considerar al comparar la intensidad de las fuerzas intermoleculares en los sólidos y los líquidos?"
      ],
      "metadata": {
        "id": "vyTUveJ_toLF"
      }
    },
    {
      "cell_type": "markdown",
      "source": [
        "Al comparar la intensidad de las fuerzas intermoleculares en sólidos y líquidos, se deben considerar propiedades físicas como el punto de fusión (sólidos) y el punto de ebullición (líquidos), la entalpía de vaporización, la densidad, la capacidad calorífica, la viscosidad, la solubilidad, y la tensión superficial. Estas propiedades reflejan la fortaleza de las interacciones intermoleculares y ayudan a comprender las diferencias en la naturaleza de estas fuerzas en diferentes sustancias."
      ],
      "metadata": {
        "id": "HHgzu7iftXs3"
      }
    },
    {
      "cell_type": "markdown",
      "source": [
        "**Propiedades de los líquidos**"
      ],
      "metadata": {
        "id": "4krGh6Cac6R6"
      }
    },
    {
      "cell_type": "markdown",
      "source": [
        "11.21.¿Por qué los líquidos a diferencia de los gases son practicamente incomprensibles?"
      ],
      "metadata": {
        "id": "aZobV-Eob0EG"
      }
    },
    {
      "cell_type": "markdown",
      "source": [
        "Los líquidos son prácticamente incompresibles en contraste con los gases debido a que las moléculas en los líquidos están más cerca unas de otras, ocupan menos espacio y experimentan menos cambio en volumen cuando se les aplica presión. Esto se debe a las fuerzas intermoleculares más fuertes y la proximidad entre las partículas en los líquidos en comparación con los gases."
      ],
      "metadata": {
        "id": "GX5YfLtub7RE"
      }
    },
    {
      "cell_type": "markdown",
      "source": [
        "11.24. Utilice el agua y el mercurio como ejemplos para explicar la adhesión y la cohesión"
      ],
      "metadata": {
        "id": "UZw12Q0kb9FD"
      }
    },
    {
      "cell_type": "markdown",
      "source": [
        "Adhesión: El agua se adhiere a superficies como el vidrio debido a fuerzas de atracción entre las moléculas de agua y las de la superficie.\n",
        "\n",
        "Cohesión: El agua se mantiene unida entre sí debido a los puentes de hidrógeno entre moléculas de agua, lo que forma gotas y una superficie convexa en un vaso.\n",
        "\n",
        "El mercurio no muestra fuerte adhesión y tiene cohesión más débil, lo que lo hace extenderse en lugar de formar gotas en muchas superficies."
      ],
      "metadata": {
        "id": "dSgVy0vYgBEL"
      }
    },
    {
      "cell_type": "markdown",
      "source": [
        "11.25. Un vaso se pude llenar con agua justo por encima del borde. ¿Por qué no se derrama?"
      ],
      "metadata": {
        "id": "kWUNEwT8cMb6"
      }
    },
    {
      "cell_type": "markdown",
      "source": [
        "El agua en un vaso puede llenarse justo por encima del borde sin derramarse debido a la tensión superficial. La tensión superficial es una propiedad que permite que la superficie de un líquido actúe como si estuviera cubierta por una \"piel\" elástica. Esto se debe a las fuerzas de cohesión entre las moléculas en la superficie del líquido.\n",
        "\n",
        "Cuando el agua se llena hasta el borde del vaso, la tensión superficial evita que las moléculas de agua se separen fácilmente de la superficie. Esto crea una \"cúpula\" ligeramente convexa de agua en la parte superior del vaso, que puede soportar un pequeño volumen adicional de agua antes de desbordarse."
      ],
      "metadata": {
        "id": "dX1lY22AgGQr"
      }
    },
    {
      "cell_type": "markdown",
      "source": [
        "11.29. ¿Por qué el hielo es menos denso que el agua?"
      ],
      "metadata": {
        "id": "Wcc-skancZwC"
      }
    },
    {
      "cell_type": "markdown",
      "source": [
        "El hielo es menos denso que el agua debido a que, al congelarse, las moléculas de agua se organizan en una estructura cristalina con enlaces de hidrógeno que hacen que ocupen más espacio, lo que resulta en una densidad menor que el agua líquida. Esto hace que el hielo flote en el agua, y es una propiedad única del agua."
      ],
      "metadata": {
        "id": "JFg515KYgPks"
      }
    },
    {
      "cell_type": "markdown",
      "source": [
        "**SOLUCIONES**"
      ],
      "metadata": {
        "id": "2h0xz4N6c2Wa"
      }
    },
    {
      "cell_type": "markdown",
      "source": [
        "12.3. Describa brevemente el proceso de disolución a nivel molecular. Utilice como ejemplo la disolución de un sólido en un líquido."
      ],
      "metadata": {
        "id": "BVGeUg67coc0"
      }
    },
    {
      "cell_type": "markdown",
      "source": [
        "El proceso de disolución a nivel molecular implica la separación de las partículas de un soluto (sólido) en un solvente (líquido). En el ejemplo de la disolución de un sólido en un líquido:\n",
        "\n",
        "1) Cuando el sólido se agrega al líquido, las moléculas del sólido (soluto) interactúan con las moléculas del líquido (solvente).\n",
        "\n",
        "2) Las fuerzas de atracción entre las moléculas del soluto y el solvente superan las fuerzas de atracción entre las moléculas del soluto en su estado sólido.\n",
        "\n",
        "3) A medida que estas fuerzas de atracción superan las fuerzas de atracción intermoleculares en el soluto, las moléculas del soluto se separan y rodean individualmente por las moléculas del solvente.\n",
        "\n",
        "4) Finalmente, las moléculas del soluto se dispersan uniformemente en el solvente, formando una mezcla homogénea llamada solución."
      ],
      "metadata": {
        "id": "euYCPZ3XgZsq"
      }
    },
    {
      "cell_type": "markdown",
      "source": [
        "12.4. A partir de las fuerzas intermoleculares, explique el significado de \"lo semejante disuelve lo semejante\"."
      ],
      "metadata": {
        "id": "suEQq9Nmc1Nq"
      }
    },
    {
      "cell_type": "markdown",
      "source": [
        "\n",
        "\"Lo semejante disuelve lo semejante\" significa que sustancias con fuerzas intermoleculares similares tienden a mezclarse fácilmente, mientras que sustancias con fuerzas muy diferentes no se mezclan eficazmente. Ejemplo: El agua, con enlaces de hidrógeno, disuelve sustancias polares con enlaces de hidrógeno, como el etanol, mejor que sustancias con fuerzas intermoleculares muy diferentes."
      ],
      "metadata": {
        "id": "sTudEjZ6gjzz"
      }
    },
    {
      "cell_type": "markdown",
      "source": [
        "12.6. Según se sabe, algunos procesos de disolución son endotérmicos, y otros son exotérmicos. Proponga una interpretación molecular de esta diferencia."
      ],
      "metadata": {
        "id": "c56RO1ome-Ut"
      }
    },
    {
      "cell_type": "markdown",
      "source": [
        "La diferencia entre disoluciones endotérmicas y exotérmicas se basa en el equilibrio de energía entre romper y formar fuerzas intermoleculares. En disoluciones endotérmicas, se necesita más energía para romper las interacciones en el soluto que la liberada al formar nuevas interacciones con el solvente, lo que resulta en una absorción neta de energía. En disoluciones exotérmicas, la energía liberada al formar nuevas interacciones supera la energía requerida para romper las interacciones originales, generando una liberación neta de energía y calentando el sistema. Esto se relaciona con las fuerzas intermoleculares y afecta si la disolución absorbe o libera energía."
      ],
      "metadata": {
        "id": "VMumUJfBgrOS"
      }
    },
    {
      "cell_type": "markdown",
      "source": [
        "12.7. Explique por qué el proceso de disolución invariablemente conduce un aumento en el desorden."
      ],
      "metadata": {
        "id": "zAJPVsOtfMpF"
      }
    },
    {
      "cell_type": "markdown",
      "source": [
        "\n",
        "El proceso de disolución siempre aumenta la entropía, que es una medida del desorden en un sistema. Cuando un soluto se disuelve en un solvente, las partículas del soluto se separan y se dispersan entre las moléculas del solvente, lo que crea más posiciones posibles para las partículas del soluto. Esto aumenta el desorden en el sistema, y es una manifestación del segundo principio de la termodinámica que dice que la entropía tiende a aumentar con el tiempo en sistemas aislados."
      ],
      "metadata": {
        "id": "yYZQ2bvLgxqT"
      }
    },
    {
      "cell_type": "markdown",
      "source": [
        "**UNIDADES DE CONCENTRACIÓN**"
      ],
      "metadata": {
        "id": "nqqTsOWhe3zb"
      }
    },
    {
      "cell_type": "markdown",
      "source": [
        "12.7. Explique por que el proceso de disolución invariablemente conduce a un aumento en el desorden-"
      ],
      "metadata": {
        "id": "4xm5nLEOdWJu"
      }
    },
    {
      "cell_type": "markdown",
      "source": [
        "\n",
        "La disolución aumenta inevitablemente el desorden, lo que se conoce como entropía. Cuando un soluto se disuelve en un solvente, las partículas del soluto se dispersan en el solvente, lo que resulta en un mayor desorden debido a la mayor dispersión molecular y al mayor número de configuraciones posibles en el sistema disuelto. Esto se relaciona con el segundo principio de la termodinámica que establece que la entropía tiende a aumentar en sistemas aislados con el tiempo."
      ],
      "metadata": {
        "id": "HhK-NqPBhDWS"
      }
    },
    {
      "cell_type": "markdown",
      "source": [
        "12.13. Defina los siguientes términos de concentración y especifique sus unidades: \"porcentaje en masa\", \"fracción molar\", \"molaridad\", y \"molalidad\". Compare sus ventajas y desventajas."
      ],
      "metadata": {
        "id": "3ZhB3ScseZqL"
      }
    },
    {
      "cell_type": "markdown",
      "source": [
        "\"Porcentaje en masa\" se expresa como un porcentaje del peso del soluto en una solución. Es simple pero no es adecuado para cálculos precisos.\n",
        "\n",
        "\"Fracción molar\" es la proporción de moles de un componente en una mezcla y se expresa sin unidades. Útil en cálculos estequiométricos y termodinámicos.\n",
        "\n",
        "\"Molaridad\" es la cantidad de moles de soluto por litro de solución, y se mide en mol/L. Ampliamente utilizado en química para reacciones estequiométricas.\n",
        "\n",
        "\"Molalidad\" es la cantidad de moles de soluto por kilogramo de solvente, y se mide en mol/kg. Útil cuando se consideran los efectos de la temperatura en la densidad."
      ],
      "metadata": {
        "id": "4k_FZUxKhSZZ"
      }
    },
    {
      "cell_type": "markdown",
      "source": [
        "12.15. Calcule el porcentaje en masa del soluto en cada una de las siguientes disoluiones acuosas: a) 5.50 g de NaBr en 78.2 g de disolución. b) 31.0 g de KCl en 152 g de agua. c) 4.5 g de tolueno en 29 g de benceno."
      ],
      "metadata": {
        "id": "fuiiq9ZmfXR1"
      }
    },
    {
      "cell_type": "code",
      "source": [
        "# Datos para cada solución\n",
        "masa_soluto_a = 5.50  # g\n",
        "masa_solvente_a = 78.2  # g\n",
        "masa_soluto_b = 31.0  # g\n",
        "masa_solvente_b = 152.0  # g\n",
        "masa_soluto_c = 4.5  # g\n",
        "masa_solvente_c = 29.0  # g\n",
        "\n",
        "# Cálculo del porcentaje en masa para cada solución\n",
        "porcentaje_mas_a = (masa_soluto_a / (masa_soluto_a + masa_solvente_a)) * 100\n",
        "porcentaje_mas_b = (masa_soluto_b / (masa_soluto_b + masa_solvente_b)) * 100\n",
        "porcentaje_mas_c = (masa_soluto_c / (masa_soluto_c + masa_solvente_c)) * 100\n",
        "\n",
        "# Resultados\n",
        "print(f\"a) Porcentaje en masa en la solución a: {porcentaje_mas_a:.2f}%\")\n",
        "print(f\"b) Porcentaje en masa en la solución b: {porcentaje_mas_b:.2f}%\")\n",
        "print(f\"c) Porcentaje en masa en la solución c: {porcentaje_mas_c:.2f}%\")\n"
      ],
      "metadata": {
        "colab": {
          "base_uri": "https://localhost:8080/"
        },
        "id": "nREoDIkvhalg",
        "outputId": "088cba98-fab5-4eb6-8b16-13a4cf2906de"
      },
      "execution_count": 2,
      "outputs": [
        {
          "output_type": "stream",
          "name": "stdout",
          "text": [
            "a) Porcentaje en masa en la solución a: 6.57%\n",
            "b) Porcentaje en masa en la solución b: 16.94%\n",
            "c) Porcentaje en masa en la solución c: 13.43%\n"
          ]
        }
      ]
    },
    {
      "cell_type": "markdown",
      "source": [
        "12.16. Calcule la cantidad de agua (en gramos) que se debe agregar a: a) 5.00 g de urea (NH2)2CO para preparar una disolucion al 16.2% en masa y b) 26.2 g de MgCl2 para preparar una disolución al 1.5% en masa."
      ],
      "metadata": {
        "id": "b2XTh4cTfu_U"
      }
    },
    {
      "cell_type": "code",
      "source": [
        "masa_soluto_a = 5.00\n",
        "porcentaje_disolucion_a = 16.2\n",
        "\n",
        "cantidad_agua_a = masa_soluto_a / porcentaje_disolucion_a * 100\n",
        "cantidad_agua_a"
      ],
      "metadata": {
        "colab": {
          "base_uri": "https://localhost:8080/"
        },
        "id": "mZtgBpYRhmi4",
        "outputId": "89fd5abd-2dca-4fcb-ab5d-d2f8cacc9711"
      },
      "execution_count": 5,
      "outputs": [
        {
          "output_type": "execute_result",
          "data": {
            "text/plain": [
              "30.864197530864203"
            ]
          },
          "metadata": {},
          "execution_count": 5
        }
      ]
    },
    {
      "cell_type": "code",
      "source": [
        "masa_soluto_b = 26.2\n",
        "porcentaje_disolucion_b = 1.5\n",
        "\n",
        "cantidad_agua_b = masa_soluto_b / porcentaje_disolucion_b * 100\n",
        "cantidad_agua_b"
      ],
      "metadata": {
        "colab": {
          "base_uri": "https://localhost:8080/"
        },
        "id": "m-lymO7KiM9w",
        "outputId": "fb7a3a38-c70c-4327-d5d7-0b089b83081c"
      },
      "execution_count": 6,
      "outputs": [
        {
          "output_type": "execute_result",
          "data": {
            "text/plain": [
              "1746.6666666666665"
            ]
          },
          "metadata": {},
          "execution_count": 6
        }
      ]
    },
    {
      "cell_type": "markdown",
      "source": [
        "12.17. Calcule la molalidad de cada una de las siguientes disoluciones: a) 14.3 g de sacarosa (C12H22O11) en 676 g de agua, b) 7.20 moles de etilenglicol (C2H6O2) en 3546 g de agua."
      ],
      "metadata": {
        "id": "8JDUimBXfw3z"
      }
    },
    {
      "cell_type": "code",
      "source": [
        "# Datos para la solución a\n",
        "masa_soluto_a = 14.3  # g\n",
        "masa_solvente_a = 676  # g\n",
        "masa_molar_sacarosa = 342.3  # g/mol (masa molar de la sacarosa)\n",
        "\n",
        "# Cálculo de moles del soluto a partir de la masa\n",
        "moles_soluto_a = masa_soluto_a / masa_molar_sacarosa\n",
        "\n",
        "# Conversión de la masa del solvente a kilogramos\n",
        "masa_solvente_kg_a = masa_solvente_a / 1000\n",
        "\n",
        "# Cálculo de la molalidad en la solución a\n",
        "molalidad_a = moles_soluto_a / masa_solvente_kg_a\n",
        "\n",
        "# Datos para la solución b\n",
        "moles_soluto_b = 7.20  # moles\n",
        "masa_solvente_b = 3546  # g\n",
        "\n",
        "# Conversión de la masa del solvente a kilogramos\n",
        "masa_solvente_kg_b = masa_solvente_b / 1000\n",
        "\n",
        "# Cálculo de la molalidad en la solución b\n",
        "molalidad_b = moles_soluto_b / masa_solvente_kg_b\n",
        "\n",
        "print(f\"a) Molalidad en la solución a: {molalidad_a:.4f} mol/kg\")\n",
        "print(f\"b) Molalidad en la solución b: {molalidad_b:.4f} mol/kg\")\n"
      ],
      "metadata": {
        "colab": {
          "base_uri": "https://localhost:8080/"
        },
        "id": "6Pokz0-1iT3f",
        "outputId": "d38034a9-8055-4843-a79f-3859d7cdf4ae"
      },
      "execution_count": 8,
      "outputs": [
        {
          "output_type": "stream",
          "name": "stdout",
          "text": [
            "a) Molalidad en la solución a: 0.0618 mol/kg\n",
            "b) Molalidad en la solución b: 2.0305 mol/kg\n"
          ]
        }
      ]
    },
    {
      "cell_type": "markdown",
      "source": [
        "12.18. Calcule la molalidad de cada una de las siguientes disoluciones acuosas: a) disolución de NaCl 2.50 M (densidad de la disolución = 1.08 g/mL), b) disolución de KBr al 48.2% en masa."
      ],
      "metadata": {
        "id": "2UIBcx1QfzQ7"
      }
    },
    {
      "cell_type": "code",
      "source": [
        "# Datos para la solución a\n",
        "molaridad_NaCl = 2.50  # M\n",
        "densidad_disolucion_NaCl = 1.08  # g/mL\n",
        "volumen_disolucion_NaCl = 1.0  # L (1 litro)\n",
        "\n",
        "# Cálculo de moles de NaCl en 1 litro de solución\n",
        "moles_NaCl = molaridad_NaCl\n",
        "\n",
        "# Conversión de densidad a kg/L\n",
        "densidad_solvente_NaCl = densidad_disolucion_NaCl / 1000  # 1 g = 0.001 kg\n",
        "\n",
        "# Cálculo de la masa del solvente en kg\n",
        "masa_solvente_NaCl = volumen_disolucion_NaCl * densidad_solvente_NaCl\n",
        "\n",
        "# Cálculo de la molalidad en la solución a\n",
        "molalidad_NaCl = moles_NaCl / masa_solvente_NaCl\n",
        "\n",
        "# Datos para la solución b\n",
        "porcentaje_mas_KBr = 48.2  # Porcentaje en masa\n",
        "masa_total_solucion_KBr = 100.0  # g (masa total de la solución)\n",
        "\n",
        "# Cálculo de la masa de KBr en la solución\n",
        "masa_KBr = (porcentaje_mas_KBr / 100) * masa_total_solucion_KBr\n",
        "\n",
        "# Cálculo de la masa del solvente en kg\n",
        "masa_solvente_KBr = (masa_total_solucion_KBr - masa_KBr) / 1000\n",
        "\n",
        "# Cálculo de la molalidad en la solución b\n",
        "molalidad_KBr = masa_KBr / masa_solvente_KBr\n",
        "\n",
        "# Resultados\n",
        "print(f'a) Molalidad en la solución de NaCl: {molalidad_NaCl:.4f} mol/kg')\n",
        "print(f'b) Molalidad en la solución de KBr: {molalidad_KBr:.4f} mol/kg')\n"
      ],
      "metadata": {
        "colab": {
          "base_uri": "https://localhost:8080/"
        },
        "id": "liUryUNPifnn",
        "outputId": "84ab24a2-c05f-44e5-91dd-c77dbf15226c"
      },
      "execution_count": 9,
      "outputs": [
        {
          "output_type": "stream",
          "name": "stdout",
          "text": [
            "a) Molalidad en la solución de NaCl: 2314.8148 mol/kg\n",
            "b) Molalidad en la solución de KBr: 930.5019 mol/kg\n"
          ]
        }
      ]
    },
    {
      "cell_type": "markdown",
      "source": [
        "**EFECTO DE LA TEMPERATURA EN LA SOLUBILIDAD**"
      ],
      "metadata": {
        "id": "aKQmwRLCg00y"
      }
    },
    {
      "cell_type": "markdown",
      "source": [
        "12.27. Una muestra de 3.20 g de sal se disuelve en 9.10 g de agua para formar una disolución saturada a 25°C. ¿Cuál es la solubilidad (en g de sal/100 g de H2O) de la sal?"
      ],
      "metadata": {
        "id": "25bqOOSMg6qm"
      }
    },
    {
      "cell_type": "code",
      "source": [
        "# Datos\n",
        "masa_sal_disuelta = 3.20  # g\n",
        "masa_agua = 9.10  # g\n",
        "\n",
        "# Cálculo de la solubilidad\n",
        "solubilidad = (masa_sal_disuelta / masa_agua) * 100\n",
        "\n",
        "print(f\"La solubilidad de la sal en agua a 25°C es {solubilidad:.2f} g de sal/100 g de H2O.\")\n"
      ],
      "metadata": {
        "colab": {
          "base_uri": "https://localhost:8080/"
        },
        "id": "JhWUsKgsi1ge",
        "outputId": "6caa0a61-97e2-4b0e-8f78-d68ad82f291a"
      },
      "execution_count": 11,
      "outputs": [
        {
          "output_type": "stream",
          "name": "stdout",
          "text": [
            "La solubilidad de la sal en agua a 25°C es 35.16 g de sal/100 g de H2O.\n"
          ]
        }
      ]
    }
  ]
}