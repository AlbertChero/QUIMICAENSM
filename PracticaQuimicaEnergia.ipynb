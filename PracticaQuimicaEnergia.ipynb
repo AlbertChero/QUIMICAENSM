{
  "nbformat": 4,
  "nbformat_minor": 0,
  "metadata": {
    "colab": {
      "provenance": [],
      "authorship_tag": "ABX9TyOZ4GgMDieSh1sEzg52uCVI",
      "include_colab_link": true
    },
    "kernelspec": {
      "name": "python3",
      "display_name": "Python 3"
    },
    "language_info": {
      "name": "python"
    }
  },
  "cells": [
    {
      "cell_type": "markdown",
      "metadata": {
        "id": "view-in-github",
        "colab_type": "text"
      },
      "source": [
        "<a href=\"https://colab.research.google.com/github/AlbertChero/QUIMICAENSM/blob/main/PracticaQuimicaEnergia.ipynb\" target=\"_parent\"><img src=\"https://colab.research.google.com/assets/colab-badge.svg\" alt=\"Open In Colab\"/></a>"
      ]
    },
    {
      "cell_type": "code",
      "execution_count": null,
      "metadata": {
        "id": "3oCk5hoaRkDK"
      },
      "outputs": [],
      "source": [
        "! pip install rdkit\n",
        "! pip install pyscf"
      ]
    },
    {
      "cell_type": "code",
      "source": [
        "from rdkit import Chem\n",
        "from rdkit.Chem import Draw\n",
        "from rdkit.Chem import AllChem\n",
        "from rdkit.Chem.Draw import IPythonConsole\n",
        "IPythonConsole.drawOptions.addAtomIndices = True"
      ],
      "metadata": {
        "id": "JrlCyDWURujQ"
      },
      "execution_count": 2,
      "outputs": []
    },
    {
      "cell_type": "markdown",
      "source": [
        "**Determinando la energía del reactivo**"
      ],
      "metadata": {
        "id": "h2pzUYMFRw30"
      }
    },
    {
      "cell_type": "code",
      "source": [
        "smiles = \"F\\C=C/C\"\n",
        "mol = Chem.MolFromSmiles(smiles)"
      ],
      "metadata": {
        "id": "VosI1uHLRy_j"
      },
      "execution_count": 35,
      "outputs": []
    },
    {
      "cell_type": "code",
      "source": [
        "mol_h = Chem.AddHs(mol)"
      ],
      "metadata": {
        "id": "cuv-CXCcR0ni"
      },
      "execution_count": 36,
      "outputs": []
    },
    {
      "cell_type": "code",
      "source": [
        "Chem.AllChem.EmbedMolecule(mol_h)\n",
        "print(Chem.MolToMolBlock(mol_h))"
      ],
      "metadata": {
        "colab": {
          "base_uri": "https://localhost:8080/"
        },
        "id": "nqdljnmAR3xZ",
        "outputId": "5e50d8f5-a410-46b8-9c6a-c4734e9d759d"
      },
      "execution_count": 37,
      "outputs": [
        {
          "output_type": "stream",
          "name": "stdout",
          "text": [
            "\n",
            "     RDKit          3D\n",
            "\n",
            "  9  8  0  0  0  0  0  0  0  0999 V2000\n",
            "    1.2928    1.4707    0.3051 F   0  0  0  0  0  0  0  0  0  0  0  0\n",
            "    1.3096    0.1361    0.0575 C   0  0  0  0  0  0  0  0  0  0  0  0\n",
            "    0.2076   -0.5902   -0.1133 C   0  0  0  0  0  0  0  0  0  0  0  0\n",
            "   -1.0923    0.1401   -0.0197 C   0  0  0  0  0  0  0  0  0  0  0  0\n",
            "    2.2545   -0.4291   -0.0169 H   0  0  0  0  0  0  0  0  0  0  0  0\n",
            "    0.2474   -1.6725   -0.3132 H   0  0  0  0  0  0  0  0  0  0  0  0\n",
            "   -1.9075   -0.5013   -0.4293 H   0  0  0  0  0  0  0  0  0  0  0  0\n",
            "   -1.0153    1.1131   -0.5341 H   0  0  0  0  0  0  0  0  0  0  0  0\n",
            "   -1.2968    0.3331    1.0638 H   0  0  0  0  0  0  0  0  0  0  0  0\n",
            "  1  2  1  0\n",
            "  2  3  2  0\n",
            "  3  4  1  0\n",
            "  2  5  1  0\n",
            "  3  6  1  0\n",
            "  4  7  1  0\n",
            "  4  8  1  0\n",
            "  4  9  1  0\n",
            "M  END\n",
            "\n"
          ]
        }
      ]
    },
    {
      "cell_type": "code",
      "source": [
        "Chem.MolToXYZFile(mol_h,\"reactivo.xyz\")"
      ],
      "metadata": {
        "id": "Asl_oRsESX01"
      },
      "execution_count": 38,
      "outputs": []
    },
    {
      "cell_type": "code",
      "source": [
        "from pyscf import gto, scf"
      ],
      "metadata": {
        "id": "N3sPh4xxSZNE"
      },
      "execution_count": 39,
      "outputs": []
    },
    {
      "cell_type": "code",
      "source": [
        "mol = gto.M(atom=\"reactivo.xyz\")\n",
        "mol.basis = \"3-21G\"\n",
        "mf = mol.KS()\n",
        "mf.xc = 'b3lyp'\n",
        "reactivo = mf.kernel()"
      ],
      "metadata": {
        "colab": {
          "base_uri": "https://localhost:8080/"
        },
        "id": "4ltu9zn8SblE",
        "outputId": "f817f034-dde0-43d7-f14d-11bf0e021314"
      },
      "execution_count": 40,
      "outputs": [
        {
          "output_type": "stream",
          "name": "stdout",
          "text": [
            "converged SCF energy = -214.250425278291\n"
          ]
        }
      ]
    },
    {
      "cell_type": "code",
      "source": [
        "print(reactivo)"
      ],
      "metadata": {
        "colab": {
          "base_uri": "https://localhost:8080/"
        },
        "id": "0ZJ49HUDThx0",
        "outputId": "3ade413a-c48d-45fa-b56c-fee2875e517f"
      },
      "execution_count": 41,
      "outputs": [
        {
          "output_type": "stream",
          "name": "stdout",
          "text": [
            "-214.25042527829072\n"
          ]
        }
      ]
    },
    {
      "cell_type": "markdown",
      "source": [
        "**Determinando la energia del producto**"
      ],
      "metadata": {
        "id": "iez9X6h6Tqi-"
      }
    },
    {
      "cell_type": "code",
      "source": [
        "smiles2 = \"F/C=C/C\"\n",
        "mol1 = Chem.MolFromSmiles(smiles2)\n",
        "mol_g = Chem.AddHs(mol1)"
      ],
      "metadata": {
        "id": "to2rOx3BTrNH"
      },
      "execution_count": 42,
      "outputs": []
    },
    {
      "cell_type": "code",
      "source": [
        "Chem.AllChem.EmbedMolecule(mol_g)\n",
        "print(Chem.MolToMolBlock(mol_g))"
      ],
      "metadata": {
        "colab": {
          "base_uri": "https://localhost:8080/"
        },
        "id": "lRrxxBA2UAzb",
        "outputId": "3959e34f-6141-4d4c-f287-404b15d75901"
      },
      "execution_count": 43,
      "outputs": [
        {
          "output_type": "stream",
          "name": "stdout",
          "text": [
            "\n",
            "     RDKit          3D\n",
            "\n",
            "  9  8  0  0  0  0  0  0  0  0999 V2000\n",
            "    2.5446    0.1571    0.1345 F   0  0  0  0  0  0  0  0  0  0  0  0\n",
            "    1.2518   -0.2957    0.1506 C   0  0  0  0  0  0  0  0  0  0  0  0\n",
            "    0.2481    0.5368   -0.1165 C   0  0  0  0  0  0  0  0  0  0  0  0\n",
            "   -1.1278   -0.0122   -0.0835 C   0  0  0  0  0  0  0  0  0  0  0  0\n",
            "    1.0389   -1.3319    0.3803 H   0  0  0  0  0  0  0  0  0  0  0  0\n",
            "    0.4711    1.5763   -0.3462 H   0  0  0  0  0  0  0  0  0  0  0  0\n",
            "   -1.2656   -0.7450   -0.9293 H   0  0  0  0  0  0  0  0  0  0  0  0\n",
            "   -1.2478   -0.6316    0.8526 H   0  0  0  0  0  0  0  0  0  0  0  0\n",
            "   -1.9133    0.7462   -0.0425 H   0  0  0  0  0  0  0  0  0  0  0  0\n",
            "  1  2  1  0\n",
            "  2  3  2  0\n",
            "  3  4  1  0\n",
            "  2  5  1  0\n",
            "  3  6  1  0\n",
            "  4  7  1  0\n",
            "  4  8  1  0\n",
            "  4  9  1  0\n",
            "M  END\n",
            "\n"
          ]
        }
      ]
    },
    {
      "cell_type": "code",
      "source": [
        "Chem.MolToXYZFile(mol_g,\"producto.xyz\")"
      ],
      "metadata": {
        "id": "Dm13JPBmUC_0"
      },
      "execution_count": 44,
      "outputs": []
    },
    {
      "cell_type": "code",
      "source": [
        "mol9 = gto.M(atom=\"producto.xyz\")\n",
        "mol9.basis = \"3-21G\"\n",
        "md = mol9.KS()\n",
        "md.xc = 'b3lyp'\n",
        "producto = md.kernel()"
      ],
      "metadata": {
        "colab": {
          "base_uri": "https://localhost:8080/"
        },
        "id": "vo89vcKkUE7r",
        "outputId": "36691a45-e2c2-4a2e-8926-bf6ccfa979cc"
      },
      "execution_count": 45,
      "outputs": [
        {
          "output_type": "stream",
          "name": "stdout",
          "text": [
            "converged SCF energy = -214.249454218588\n"
          ]
        }
      ]
    },
    {
      "cell_type": "code",
      "source": [
        "print(producto)"
      ],
      "metadata": {
        "colab": {
          "base_uri": "https://localhost:8080/"
        },
        "id": "9BofhaqUUO_t",
        "outputId": "1a1071ee-7ff3-4e7b-83cd-d64f30f8c259"
      },
      "execution_count": 46,
      "outputs": [
        {
          "output_type": "stream",
          "name": "stdout",
          "text": [
            "-214.24945421858848\n"
          ]
        }
      ]
    },
    {
      "cell_type": "markdown",
      "source": [
        "**Determinando la energía del compuesto de transicion**\n"
      ],
      "metadata": {
        "id": "DUT0v0-7UVHc"
      }
    },
    {
      "cell_type": "code",
      "source": [
        "smiles3 = \"F\\C=C/C \"\n",
        "mol2 = Chem.MolFromSmiles(smiles3)\n",
        "mol2 = Chem.AddHs(mol2)\n",
        "Chem.AllChem.EmbedMolecule(mol2)\n",
        "Chem.MolToXYZFile(mol2, \"initial.xyz\")\n",
        "mol2"
      ],
      "metadata": {
        "colab": {
          "base_uri": "https://localhost:8080/",
          "height": 167
        },
        "id": "qO5NH6jkUXEg",
        "outputId": "d310d0c1-0de6-4a9e-ec3e-469478a510a6"
      },
      "execution_count": 47,
      "outputs": [
        {
          "output_type": "execute_result",
          "data": {
            "text/plain": [
              "<rdkit.Chem.rdchem.Mol at 0x7a6cabf40c10>"
            ],
            "image/png": "[encoded data removed]"
          },
          "metadata": {},
          "execution_count": 47
        }
      ]
    },
    {
      "cell_type": "code",
      "source": [
        "from rdkit import Chem\n",
        "from rdkit.Chem import AllChem\n",
        "\n",
        "# set the value to 90 for the conformer\n",
        "Chem.AllChem.SetDihedralDeg(mol2.GetConformer(0),3,2,1,0,90)\n",
        "\n",
        "# save the new conformer\n",
        "Chem.MolToXYZFile(mol2, \"90.xyz\")"
      ],
      "metadata": {
        "id": "WzWzNcd-Uf0Q"
      },
      "execution_count": 48,
      "outputs": []
    },
    {
      "cell_type": "code",
      "source": [
        "mol11 = gto.M(atom=\"90.xyz\")\n",
        "mol11.basis = \"3-21G\"\n",
        "mt = mol11.KS()\n",
        "mt.xc = 'b3lyp'\n",
        "transicion = mt.kernel()"
      ],
      "metadata": {
        "colab": {
          "base_uri": "https://localhost:8080/"
        },
        "id": "Ut6_9YhEW--d",
        "outputId": "e41cc819-6762-426b-c151-160035f8cccf"
      },
      "execution_count": 49,
      "outputs": [
        {
          "output_type": "stream",
          "name": "stdout",
          "text": [
            "converged SCF energy = -214.086186163052\n"
          ]
        }
      ]
    },
    {
      "cell_type": "code",
      "source": [
        "print(transicion)"
      ],
      "metadata": {
        "colab": {
          "base_uri": "https://localhost:8080/"
        },
        "id": "gHvPRPjNX-MC",
        "outputId": "3be84353-8fc1-4632-9493-3f02fb0a345d"
      },
      "execution_count": 50,
      "outputs": [
        {
          "output_type": "stream",
          "name": "stdout",
          "text": [
            "-214.08618616305176\n"
          ]
        }
      ]
    },
    {
      "cell_type": "markdown",
      "source": [
        "**ENERGÍA DEL REACTIVO**"
      ],
      "metadata": {
        "id": "S0jgDnLKZAq1"
      }
    },
    {
      "cell_type": "code",
      "source": [
        "print(reactivo)"
      ],
      "metadata": {
        "colab": {
          "base_uri": "https://localhost:8080/"
        },
        "id": "e7Jj5QvlZW96",
        "outputId": "b37be167-1ee4-4d30-ea2a-e307bde14e1d"
      },
      "execution_count": 51,
      "outputs": [
        {
          "output_type": "stream",
          "name": "stdout",
          "text": [
            "-214.25042527829072\n"
          ]
        }
      ]
    },
    {
      "cell_type": "markdown",
      "source": [
        "**ENERGÍA DEL PRODUCTO**"
      ],
      "metadata": {
        "id": "HPiTHxtqZP5Q"
      }
    },
    {
      "cell_type": "code",
      "source": [
        "print(producto)"
      ],
      "metadata": {
        "colab": {
          "base_uri": "https://localhost:8080/"
        },
        "id": "gJksd2adZYq-",
        "outputId": "33ad30b8-0368-4fa2-ecc1-99dcb725274d"
      },
      "execution_count": 52,
      "outputs": [
        {
          "output_type": "stream",
          "name": "stdout",
          "text": [
            "-214.24945421858848\n"
          ]
        }
      ]
    },
    {
      "cell_type": "markdown",
      "source": [
        "**ENERGÍA DE ENTALPIA**"
      ],
      "metadata": {
        "id": "toE3a2inZTWG"
      }
    },
    {
      "cell_type": "code",
      "source": [
        "entalpia=producto-reactivo\n",
        "print(entalpia)"
      ],
      "metadata": {
        "colab": {
          "base_uri": "https://localhost:8080/"
        },
        "id": "d9D5XyIrWs67",
        "outputId": "30a1214c-fd6b-420e-c4a9-3f3fb3a0203d"
      },
      "execution_count": 53,
      "outputs": [
        {
          "output_type": "stream",
          "name": "stdout",
          "text": [
            "0.0009710597022376533\n"
          ]
        }
      ]
    },
    {
      "cell_type": "markdown",
      "source": [
        "**ENERGÍA DEL COMPUESTO DE TRANSICIÓN**"
      ],
      "metadata": {
        "id": "jHSRXcwabO00"
      }
    },
    {
      "cell_type": "code",
      "source": [
        "print(transicion)"
      ],
      "metadata": {
        "colab": {
          "base_uri": "https://localhost:8080/"
        },
        "id": "rz-qfxljbLKs",
        "outputId": "862e2d65-e7d4-42fd-f2e4-6c20ef0b7ae7"
      },
      "execution_count": 55,
      "outputs": [
        {
          "output_type": "stream",
          "name": "stdout",
          "text": [
            "-214.08618616305176\n"
          ]
        }
      ]
    },
    {
      "cell_type": "markdown",
      "source": [
        "**ENERGÍA PARA LA ACTIVACIÓN DE ISOMERIZACION**"
      ],
      "metadata": {
        "id": "VkXVHp_3ZVBF"
      }
    },
    {
      "cell_type": "code",
      "source": [
        "isomerizacion=transicion-reactivo\n",
        "print(isomerizacion)"
      ],
      "metadata": {
        "colab": {
          "base_uri": "https://localhost:8080/"
        },
        "id": "2OMg5YolZahF",
        "outputId": "339ce34a-8ffb-4414-8e1f-500f546143df"
      },
      "execution_count": 54,
      "outputs": [
        {
          "output_type": "stream",
          "name": "stdout",
          "text": [
            "0.1642391152389564\n"
          ]
        }
      ]
    },
    {
      "cell_type": "markdown",
      "source": [
        "**DETERMINAR SI ES UNA REACCION ENDOTERMICA O EXOTERMICA**"
      ],
      "metadata": {
        "id": "Eudu7D4Vcbe_"
      }
    },
    {
      "cell_type": "code",
      "source": [
        "if(isomerizacion>0):\n",
        "  print(\"Es una reacción endotermica\")\n",
        "elif(isomerizacion<0):\n",
        "  print(\"Es una reacción exotermica\")"
      ],
      "metadata": {
        "colab": {
          "base_uri": "https://localhost:8080/"
        },
        "id": "ptdeF5nWccs2",
        "outputId": "8b318d52-6530-43f3-ed8f-cbd8a682ed2b"
      },
      "execution_count": 61,
      "outputs": [
        {
          "output_type": "stream",
          "name": "stdout",
          "text": [
            "Es una reacción endotermica\n"
          ]
        }
      ]
    }
  ]
}